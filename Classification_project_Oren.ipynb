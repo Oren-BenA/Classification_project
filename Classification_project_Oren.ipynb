{
 "cells": [
  {
   "cell_type": "code",
   "execution_count": null,
   "id": "3ab82ae3-2056-4d0a-b9bb-41381ae2b469",
   "metadata": {},
   "outputs": [],
   "source": [
    "# 10-11-2023, Oren - Classification Project Notebook"
   ]
  },
  {
   "cell_type": "code",
   "execution_count": null,
   "id": "02f07b91-371e-4668-a32f-ba9ec368cd81",
   "metadata": {},
   "outputs": [],
   "source": [
    "import pandas as pd"
   ]
  }
 ],
 "metadata": {
  "kernelspec": {
   "display_name": "Python 3 (ipykernel)",
   "language": "python",
   "name": "python3"
  },
  "language_info": {
   "codemirror_mode": {
    "name": "ipython",
    "version": 3
   },
   "file_extension": ".py",
   "mimetype": "text/x-python",
   "name": "python",
   "nbconvert_exporter": "python",
   "pygments_lexer": "ipython3",
   "version": "3.11.3"
  }
 },
 "nbformat": 4,
 "nbformat_minor": 5
}
