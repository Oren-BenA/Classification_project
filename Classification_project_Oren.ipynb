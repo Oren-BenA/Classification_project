{
 "cells": [
  {
   "cell_type": "code",
   "execution_count": 1,
   "id": "3ab82ae3-2056-4d0a-b9bb-41381ae2b469",
   "metadata": {},
   "outputs": [],
   "source": [
    "# 10-11-2023, Oren - Classification Project Notebook"
   ]
  },
  {
   "cell_type": "code",
   "execution_count": 2,
   "id": "02f07b91-371e-4668-a32f-ba9ec368cd81",
   "metadata": {
    "tags": []
   },
   "outputs": [],
   "source": [
    "from sklearn.neighbors import KNeighborsClassifier\n",
    "from pandas import read_csv\n",
    "import pandas as pd\n",
    "from sklearn.linear_model import LogisticRegression\n",
    "from sklearn.tree import DecisionTreeClassifier\n",
    "from sklearn.ensemble import VotingClassifier, BaggingClassifier, \\\n",
    "    AdaBoostClassifier, GradientBoostingClassifier, RandomForestClassifier\n",
    "from sklearn.model_selection import train_test_split, GridSearchCV\n",
    "import warnings\n",
    "from sklearn.exceptions import DataConversionWarning\n",
    "warnings.filterwarnings(action='ignore', category=DataConversionWarning)\n",
    "warnings.filterwarnings(\"ignore\")\n",
    "import numpy as np\n",
    "\n",
    "import matplotlib.pyplot as plt\n",
    "\n",
    "from sklearn.preprocessing import MinMaxScaler\n",
    "from sklearn.metrics import classification_report, accuracy_score, confusion_matrix, roc_auc_score, roc_curve\n",
    "\n",
    "def csv_drive_path_generatoer(url):\n",
    " '''\n",
    " Help in read csv file directly from google drive.\n",
    " Make sure the csv format is standard.\n",
    " url:str - path to csv file example:\n",
    "   url = 'https://drive.google.com/file/d/126JPZ3lYwdLyJ2d_7jxM9jMtZaOlF-Ld/view?usp=sharing'\n",
    " return : str\n",
    " '''\n",
    " path = 'https://drive.google.com/uc?export=download&id='+url.split('/')[-2]\n",
    " return path"
   ]
  },
  {
   "cell_type": "code",
   "execution_count": 3,
   "id": "054babc4-70a8-4509-aa43-33cd75833dfb",
   "metadata": {
    "tags": []
   },
   "outputs": [],
   "source": [
    "link_X_train = 'https://drive.google.com/file/d/11Dgctv-N6z3ugQOpRrFNKVP5NNqPPWxK/view?usp=drive_link'\n",
    "link_y_train = 'https://drive.google.com/file/d/1NDF2aCymR4zjYK9mLYNRwIdB_EyE5ZHl/view?usp=drive_link'\n",
    "\n",
    "link_X_test = 'https://drive.google.com/file/d/1ZRg80tYdBO1pcd_6R1m_tiijZSfDXMZ6/view?usp=drive_link'\n",
    "\n",
    "path_X_train = csv_drive_path_generatoer(link_X_train)\n",
    "path_y_train = csv_drive_path_generatoer(link_y_train)\n",
    "\n",
    "path_X_test = csv_drive_path_generatoer(link_X_test)\n",
    "\n",
    "X_train = read_csv(path_X_train, index_col = 0)\n",
    "y_train = read_csv(path_y_train, index_col = 0)\n",
    "\n",
    "X_test = read_csv(path_X_test, index_col = 0)\n",
    "\n",
    "train_data = X_train.join(y_train).set_index('id')"
   ]
  },
  {
   "cell_type": "code",
   "execution_count": 4,
   "id": "5b1865a4-0071-43c0-a480-c8bfc07cb797",
   "metadata": {
    "tags": []
   },
   "outputs": [],
   "source": [
    "# import seaborn as sns\n",
    "# sns.pairplot(scaled_train_data, hue = 'LeaveOrNot')"
   ]
  },
  {
   "cell_type": "code",
   "execution_count": 5,
   "id": "66f21b6e-65a1-4295-9d58-72be821e33af",
   "metadata": {
    "tags": []
   },
   "outputs": [],
   "source": [
    "# Defining a data-Transformation class to elegantly perform all data transformation steps by class methods upon class object instansiation \n",
    "# can be accessed via the .data class attribute\n",
    "\n",
    "# 0. Remove nulls\n",
    "# 1. add tenure feature - current - specified year\n",
    "# 2. Transform Education values to 1, 2, 3\n",
    "# 3. Transform EverBenched values to 1 or 0\n",
    "# 4. Gender, City & Race - One-Hot encoding\n",
    "# 5. remove extra columns\n",
    "\n",
    "class DataTransformer:\n",
    "    \n",
    "    def __init__(self, data):\n",
    "        self.data = data\n",
    "        self.remove_nulls()\n",
    "        self.add_tenure()\n",
    "        self.numeric_education()\n",
    "        self.numeric_everbenched()\n",
    "        self.one_hot_encoder()\n",
    "        self.remove_extra_columns()\n",
    "            \n",
    "    def remove_nulls(self, column = 'Age'):\n",
    "        self.data = self.data[~self.data[column].isnull()]\n",
    "    \n",
    "    def add_tenure(self,current_year = 2023):\n",
    "        self.data[\"Loan's_Tenure\"] = current_year - self.data.JoiningYear\n",
    "\n",
    "    def numeric_education(self):\n",
    "        self.data['Education'] = self.data['Education'].replace({'Bachelors': 1,'Masters': 2,'PHD': 3})\n",
    "        \n",
    "    def numeric_everbenched(self):\n",
    "        self.data['EverBenched'] = self.data['EverBenched'].replace({'Yes':1, 'No': 0})        \n",
    "\n",
    "    def one_hot_encoder(self, columns = ['Gender', 'Race', 'City']):\n",
    "        self.data = pd.get_dummies(self.data, columns = columns, prefix = columns, dtype = int)\n",
    "            \n",
    "    def remove_extra_columns(self):\n",
    "        self.data = self.data.drop(columns = ['JoiningYear'])"
   ]
  },
  {
   "cell_type": "code",
   "execution_count": 6,
   "id": "f71bcafe-ab9d-4789-ad0c-f8e2a5fb94c9",
   "metadata": {
    "tags": []
   },
   "outputs": [
    {
     "data": {
      "text/html": [
       "<div>\n",
       "<style scoped>\n",
       "    .dataframe tbody tr th:only-of-type {\n",
       "        vertical-align: middle;\n",
       "    }\n",
       "\n",
       "    .dataframe tbody tr th {\n",
       "        vertical-align: top;\n",
       "    }\n",
       "\n",
       "    .dataframe thead th {\n",
       "        text-align: right;\n",
       "    }\n",
       "</style>\n",
       "<table border=\"1\" class=\"dataframe\">\n",
       "  <thead>\n",
       "    <tr style=\"text-align: right;\">\n",
       "      <th></th>\n",
       "      <th>Education</th>\n",
       "      <th>PaymentTier</th>\n",
       "      <th>Age</th>\n",
       "      <th>EverBenched</th>\n",
       "      <th>ExperienceInCurrentDomain</th>\n",
       "      <th>LeaveOrNot</th>\n",
       "      <th>Loan's_Tenure</th>\n",
       "      <th>Gender_Female</th>\n",
       "      <th>Gender_Male</th>\n",
       "      <th>Race_black</th>\n",
       "      <th>Race_red</th>\n",
       "      <th>Race_white</th>\n",
       "      <th>Race_yellow</th>\n",
       "      <th>City_Bangalore</th>\n",
       "      <th>City_New Delhi</th>\n",
       "      <th>City_Pune</th>\n",
       "    </tr>\n",
       "    <tr>\n",
       "      <th>id</th>\n",
       "      <th></th>\n",
       "      <th></th>\n",
       "      <th></th>\n",
       "      <th></th>\n",
       "      <th></th>\n",
       "      <th></th>\n",
       "      <th></th>\n",
       "      <th></th>\n",
       "      <th></th>\n",
       "      <th></th>\n",
       "      <th></th>\n",
       "      <th></th>\n",
       "      <th></th>\n",
       "      <th></th>\n",
       "      <th></th>\n",
       "      <th></th>\n",
       "    </tr>\n",
       "  </thead>\n",
       "  <tbody>\n",
       "    <tr>\n",
       "      <th>1847</th>\n",
       "      <td>1</td>\n",
       "      <td>3</td>\n",
       "      <td>27.0</td>\n",
       "      <td>1</td>\n",
       "      <td>4</td>\n",
       "      <td>0</td>\n",
       "      <td>7</td>\n",
       "      <td>0</td>\n",
       "      <td>1</td>\n",
       "      <td>0</td>\n",
       "      <td>0</td>\n",
       "      <td>1</td>\n",
       "      <td>0</td>\n",
       "      <td>1</td>\n",
       "      <td>0</td>\n",
       "      <td>0</td>\n",
       "    </tr>\n",
       "    <tr>\n",
       "      <th>2905</th>\n",
       "      <td>1</td>\n",
       "      <td>3</td>\n",
       "      <td>28.0</td>\n",
       "      <td>0</td>\n",
       "      <td>4</td>\n",
       "      <td>0</td>\n",
       "      <td>11</td>\n",
       "      <td>0</td>\n",
       "      <td>1</td>\n",
       "      <td>0</td>\n",
       "      <td>0</td>\n",
       "      <td>1</td>\n",
       "      <td>0</td>\n",
       "      <td>1</td>\n",
       "      <td>0</td>\n",
       "      <td>0</td>\n",
       "    </tr>\n",
       "    <tr>\n",
       "      <th>4610</th>\n",
       "      <td>1</td>\n",
       "      <td>3</td>\n",
       "      <td>26.0</td>\n",
       "      <td>0</td>\n",
       "      <td>2</td>\n",
       "      <td>1</td>\n",
       "      <td>8</td>\n",
       "      <td>1</td>\n",
       "      <td>0</td>\n",
       "      <td>0</td>\n",
       "      <td>0</td>\n",
       "      <td>1</td>\n",
       "      <td>0</td>\n",
       "      <td>0</td>\n",
       "      <td>0</td>\n",
       "      <td>1</td>\n",
       "    </tr>\n",
       "    <tr>\n",
       "      <th>2228</th>\n",
       "      <td>1</td>\n",
       "      <td>3</td>\n",
       "      <td>29.0</td>\n",
       "      <td>0</td>\n",
       "      <td>1</td>\n",
       "      <td>0</td>\n",
       "      <td>11</td>\n",
       "      <td>0</td>\n",
       "      <td>1</td>\n",
       "      <td>1</td>\n",
       "      <td>0</td>\n",
       "      <td>0</td>\n",
       "      <td>0</td>\n",
       "      <td>1</td>\n",
       "      <td>0</td>\n",
       "      <td>0</td>\n",
       "    </tr>\n",
       "    <tr>\n",
       "      <th>5</th>\n",
       "      <td>1</td>\n",
       "      <td>3</td>\n",
       "      <td>24.0</td>\n",
       "      <td>0</td>\n",
       "      <td>0</td>\n",
       "      <td>0</td>\n",
       "      <td>7</td>\n",
       "      <td>0</td>\n",
       "      <td>1</td>\n",
       "      <td>0</td>\n",
       "      <td>0</td>\n",
       "      <td>1</td>\n",
       "      <td>0</td>\n",
       "      <td>1</td>\n",
       "      <td>0</td>\n",
       "      <td>0</td>\n",
       "    </tr>\n",
       "    <tr>\n",
       "      <th>...</th>\n",
       "      <td>...</td>\n",
       "      <td>...</td>\n",
       "      <td>...</td>\n",
       "      <td>...</td>\n",
       "      <td>...</td>\n",
       "      <td>...</td>\n",
       "      <td>...</td>\n",
       "      <td>...</td>\n",
       "      <td>...</td>\n",
       "      <td>...</td>\n",
       "      <td>...</td>\n",
       "      <td>...</td>\n",
       "      <td>...</td>\n",
       "      <td>...</td>\n",
       "      <td>...</td>\n",
       "      <td>...</td>\n",
       "    </tr>\n",
       "    <tr>\n",
       "      <th>3335</th>\n",
       "      <td>1</td>\n",
       "      <td>3</td>\n",
       "      <td>38.0</td>\n",
       "      <td>0</td>\n",
       "      <td>0</td>\n",
       "      <td>0</td>\n",
       "      <td>7</td>\n",
       "      <td>1</td>\n",
       "      <td>0</td>\n",
       "      <td>0</td>\n",
       "      <td>0</td>\n",
       "      <td>1</td>\n",
       "      <td>0</td>\n",
       "      <td>1</td>\n",
       "      <td>0</td>\n",
       "      <td>0</td>\n",
       "    </tr>\n",
       "    <tr>\n",
       "      <th>1099</th>\n",
       "      <td>2</td>\n",
       "      <td>2</td>\n",
       "      <td>29.0</td>\n",
       "      <td>0</td>\n",
       "      <td>5</td>\n",
       "      <td>1</td>\n",
       "      <td>6</td>\n",
       "      <td>0</td>\n",
       "      <td>1</td>\n",
       "      <td>0</td>\n",
       "      <td>0</td>\n",
       "      <td>1</td>\n",
       "      <td>0</td>\n",
       "      <td>0</td>\n",
       "      <td>0</td>\n",
       "      <td>1</td>\n",
       "    </tr>\n",
       "    <tr>\n",
       "      <th>2514</th>\n",
       "      <td>1</td>\n",
       "      <td>3</td>\n",
       "      <td>31.0</td>\n",
       "      <td>0</td>\n",
       "      <td>5</td>\n",
       "      <td>0</td>\n",
       "      <td>7</td>\n",
       "      <td>0</td>\n",
       "      <td>1</td>\n",
       "      <td>1</td>\n",
       "      <td>0</td>\n",
       "      <td>0</td>\n",
       "      <td>0</td>\n",
       "      <td>0</td>\n",
       "      <td>0</td>\n",
       "      <td>1</td>\n",
       "    </tr>\n",
       "    <tr>\n",
       "      <th>3606</th>\n",
       "      <td>1</td>\n",
       "      <td>2</td>\n",
       "      <td>36.0</td>\n",
       "      <td>0</td>\n",
       "      <td>3</td>\n",
       "      <td>1</td>\n",
       "      <td>10</td>\n",
       "      <td>1</td>\n",
       "      <td>0</td>\n",
       "      <td>1</td>\n",
       "      <td>0</td>\n",
       "      <td>0</td>\n",
       "      <td>0</td>\n",
       "      <td>0</td>\n",
       "      <td>0</td>\n",
       "      <td>1</td>\n",
       "    </tr>\n",
       "    <tr>\n",
       "      <th>2575</th>\n",
       "      <td>1</td>\n",
       "      <td>3</td>\n",
       "      <td>31.0</td>\n",
       "      <td>0</td>\n",
       "      <td>2</td>\n",
       "      <td>0</td>\n",
       "      <td>10</td>\n",
       "      <td>0</td>\n",
       "      <td>1</td>\n",
       "      <td>0</td>\n",
       "      <td>0</td>\n",
       "      <td>1</td>\n",
       "      <td>0</td>\n",
       "      <td>1</td>\n",
       "      <td>0</td>\n",
       "      <td>0</td>\n",
       "    </tr>\n",
       "  </tbody>\n",
       "</table>\n",
       "<p>3720 rows × 16 columns</p>\n",
       "</div>"
      ],
      "text/plain": [
       "      Education  PaymentTier   Age  EverBenched  ExperienceInCurrentDomain  \\\n",
       "id                                                                           \n",
       "1847          1            3  27.0            1                          4   \n",
       "2905          1            3  28.0            0                          4   \n",
       "4610          1            3  26.0            0                          2   \n",
       "2228          1            3  29.0            0                          1   \n",
       "5             1            3  24.0            0                          0   \n",
       "...         ...          ...   ...          ...                        ...   \n",
       "3335          1            3  38.0            0                          0   \n",
       "1099          2            2  29.0            0                          5   \n",
       "2514          1            3  31.0            0                          5   \n",
       "3606          1            2  36.0            0                          3   \n",
       "2575          1            3  31.0            0                          2   \n",
       "\n",
       "      LeaveOrNot  Loan's_Tenure  Gender_Female  Gender_Male  Race_black  \\\n",
       "id                                                                        \n",
       "1847           0              7              0            1           0   \n",
       "2905           0             11              0            1           0   \n",
       "4610           1              8              1            0           0   \n",
       "2228           0             11              0            1           1   \n",
       "5              0              7              0            1           0   \n",
       "...          ...            ...            ...          ...         ...   \n",
       "3335           0              7              1            0           0   \n",
       "1099           1              6              0            1           0   \n",
       "2514           0              7              0            1           1   \n",
       "3606           1             10              1            0           1   \n",
       "2575           0             10              0            1           0   \n",
       "\n",
       "      Race_red  Race_white  Race_yellow  City_Bangalore  City_New Delhi  \\\n",
       "id                                                                        \n",
       "1847         0           1            0               1               0   \n",
       "2905         0           1            0               1               0   \n",
       "4610         0           1            0               0               0   \n",
       "2228         0           0            0               1               0   \n",
       "5            0           1            0               1               0   \n",
       "...        ...         ...          ...             ...             ...   \n",
       "3335         0           1            0               1               0   \n",
       "1099         0           1            0               0               0   \n",
       "2514         0           0            0               0               0   \n",
       "3606         0           0            0               0               0   \n",
       "2575         0           1            0               1               0   \n",
       "\n",
       "      City_Pune  \n",
       "id               \n",
       "1847          0  \n",
       "2905          0  \n",
       "4610          1  \n",
       "2228          0  \n",
       "5             0  \n",
       "...         ...  \n",
       "3335          0  \n",
       "1099          1  \n",
       "2514          1  \n",
       "3606          1  \n",
       "2575          0  \n",
       "\n",
       "[3720 rows x 16 columns]"
      ]
     },
     "execution_count": 6,
     "metadata": {},
     "output_type": "execute_result"
    }
   ],
   "source": [
    "# Create an instance of the DataTransformer and save the transformed df via the .data class attribute configured\n",
    "\n",
    "trans_train_data = DataTransformer(train_data)\n",
    "\n",
    "trans_train_data = trans_train_data.data\n",
    "\n",
    "trans_train_data\n"
   ]
  },
  {
   "cell_type": "code",
   "execution_count": 7,
   "id": "20191518-faa4-402d-b525-aa7ad4862198",
   "metadata": {},
   "outputs": [],
   "source": [
    "# Data Normalization/Scaling from 0 to 1 (per feature)\n",
    "scaler = MinMaxScaler()\n",
    "scaled_train_data = pd.DataFrame(scaler.fit_transform(trans_train_data), index=trans_train_data.index, columns=trans_train_data.columns)\n",
    "# scaled_train_data"
   ]
  },
  {
   "cell_type": "code",
   "execution_count": 8,
   "id": "4fe851ec-f952-48c6-8e2d-d3b930198bea",
   "metadata": {
    "tags": []
   },
   "outputs": [],
   "source": [
    "# seperating the original train data to X and y:\n",
    "X = scaled_train_data.drop(columns = 'LeaveOrNot')\n",
    "y = scaled_train_data.LeaveOrNot\n",
    "\n",
    "# Train_test_split - splitting original train data to train and test data sets\n",
    "X_train, X_test, y_train, y_test = train_test_split(X, y, test_size=0.33, random_state=42)"
   ]
  },
  {
   "cell_type": "code",
   "execution_count": 9,
   "id": "37f31dd6-9bc7-4715-a849-c59150bf5195",
   "metadata": {
    "tags": []
   },
   "outputs": [],
   "source": [
    "# Create single decision tree classifier \n",
    "\n",
    "clf_dt = DecisionTreeClassifier(max_depth = 6)\n",
    "clf_dt.fit(X_train, y_train)\n",
    "\n",
    "y_test_pred = clf_dt.predict(X_test)"
   ]
  },
  {
   "cell_type": "code",
   "execution_count": 10,
   "id": "32a11f0b-ba8f-4531-8b07-c9bec1f5aa08",
   "metadata": {
    "tags": []
   },
   "outputs": [
    {
     "name": "stdout",
     "output_type": "stream",
     "text": [
      "     0    1\n",
      "0  730   50\n",
      "1  134  314\n",
      "              precision    recall  f1-score   support\n",
      "\n",
      "           0       0.84      0.94      0.89       780\n",
      "           1       0.86      0.70      0.77       448\n",
      "\n",
      "    accuracy                           0.85      1228\n",
      "   macro avg       0.85      0.82      0.83      1228\n",
      "weighted avg       0.85      0.85      0.85      1228\n",
      "\n",
      "0.773399014778325\n"
     ]
    }
   ],
   "source": [
    "# evaluate the results\n",
    "\n",
    "# Confusion matrix\n",
    "cm = confusion_matrix(y_true = y_test, y_pred = y_test_pred)\n",
    "target_names = ['0', '1']\n",
    "cm = pd.DataFrame(data = cm, index = target_names, columns = target_names)\n",
    "print(cm)\n",
    "\n",
    "# Classification report\n",
    "cr = classification_report(y_test,y_test_pred, target_names = target_names)\n",
    "print(cr)\n",
    "print(f1_score(y_test, y_test_pred))"
   ]
  },
  {
   "cell_type": "code",
   "execution_count": 11,
   "id": "0e825928-d740-47eb-87ef-4ff339804486",
   "metadata": {
    "tags": []
   },
   "outputs": [],
   "source": [
    "def plot_roc_curve(X_train, X_test, y_train, y_test, ensemble_classifier):\n",
    "    # generate a no skill prediction (majority class)\n",
    "    ns_probs = [0 for _ in range(len(y_test))]\n",
    "\n",
    "    # clf = DecisionTreeClassifier()\n",
    "    # model_a_bagging = BaggingClassifier(estimator = base_model, n_estimators= 100)\n",
    "\n",
    "    # fitting the models\n",
    "    ensemble_classifier.fit(X_train, y_train)\n",
    "\n",
    "    # predict probabilities\n",
    "    probas = ensemble_classifier.predict_proba(X_test)\n",
    "\n",
    "    # keep probabilities for the positive outcome only\n",
    "    probas = probas[:,1]\n",
    "\n",
    "    # calculate rocs auc scores\n",
    "    auc = roc_auc_score(y_test, probas)\n",
    "\n",
    "    # calculate roc curves\n",
    "    ns_fpr, ns_tpr, _ = roc_curve(y_test, ns_probs, pos_label = 1)\n",
    "    fpr, tpr, _ = roc_curve(y_test, probas, pos_label = 1)\n",
    "\n",
    "    # plot the roc curve for the model\n",
    "\n",
    "    plt.plot(ns_fpr, ns_tpr, linestyle='--', label='No Skill')\n",
    "    plt.plot(fpr, tpr, marker='.', label=f\"{ensemble_classifier}, auc = {auc:.3f}\")\n",
    "\n",
    "    # axis labels\n",
    "    plt.xlabel('False Positive Rate')\n",
    "    plt.ylabel('True Positive Rate')\n",
    "\n",
    "    # show the legend\n",
    "    plt.legend(fontsize = 8)\n"
   ]
  },
  {
   "cell_type": "code",
   "execution_count": 12,
   "id": "79722a1a-6fc5-42c0-a3da-71d6ae66dc77",
   "metadata": {
    "tags": []
   },
   "outputs": [
    {
     "data": {
      "image/png": "[encoded data removed]",
      "text/plain": [
       "<Figure size 640x480 with 1 Axes>"
      ]
     },
     "metadata": {},
     "output_type": "display_data"
    }
   ],
   "source": [
    "plot_roc_curve(X_train, X_test, y_train, y_test, BaggingClassifier(estimator = DecisionTreeClassifier(max_depth = 7), n_estimators = 100))"
   ]
  },
  {
   "cell_type": "code",
   "execution_count": 13,
   "id": "53b8b56a-41fc-4382-9087-c6e05ad3bc30",
   "metadata": {
    "tags": []
   },
   "outputs": [
    {
     "name": "stdout",
     "output_type": "stream",
     "text": [
      "DT ADA boosting classifier:\n",
      "     \ttrain accuracy: 0.92\n",
      "     \ttest accuracy: 0.83\n"
     ]
    }
   ],
   "source": [
    "clf_adaboost = AdaBoostClassifier(base_estimator = DecisionTreeClassifier(max_depth = 7), n_estimators = 100,\n",
    "                                  learning_rate=0.01)\n",
    "clf_adaboost.fit(X_train, y_train)\n",
    "print(f\"DT ADA boosting classifier:\\n \\\n",
    "    \\ttrain accuracy: {clf_adaboost.score(X_train, y_train):.2f}\\n \\\n",
    "    \\ttest accuracy: {clf_adaboost.score(X_test, y_test):.2f}\")"
   ]
  },
  {
   "cell_type": "code",
   "execution_count": null,
   "id": "b265be20-86fa-4fa6-9df8-3a84710c0e34",
   "metadata": {},
   "outputs": [],
   "source": []
  },
  {
   "cell_type": "code",
   "execution_count": null,
   "id": "dbc47473-f9d6-4c26-9b02-e7f2a7ced8fc",
   "metadata": {},
   "outputs": [],
   "source": []
  },
  {
   "cell_type": "code",
   "execution_count": null,
   "id": "152ca439-d1d8-4473-b9d2-cd2068882b22",
   "metadata": {},
   "outputs": [],
   "source": []
  },
  {
   "cell_type": "code",
   "execution_count": 14,
   "id": "927a5c7b-e460-4e90-be41-87c0dfc0b43b",
   "metadata": {
    "tags": []
   },
   "outputs": [
    {
     "name": "stdout",
     "output_type": "stream",
     "text": [
      "{'max_depth': 5, 'max_features': 9}\n"
     ]
    }
   ],
   "source": [
    "rfc = RandomForestClassifier()\n",
    "rfc_params = {'max_depth': [5,10,15,20,40,100], 'max_features': [2,3,4,5,6,7,8,9]}\n",
    "gs_rfc = GridSearchCV(rfc, rfc_params, cv = 5, scoring='accuracy')\n",
    "gs_rfc.fit(X_train, y_train)\n",
    "print(gs_rfc.best_params_)"
   ]
  },
  {
   "cell_type": "code",
   "execution_count": 15,
   "id": "53d7f736-54b5-4b94-85d2-5735eceac98a",
   "metadata": {
    "tags": []
   },
   "outputs": [
    {
     "data": {
      "text/plain": [
       "0.827846053552889"
      ]
     },
     "execution_count": 15,
     "metadata": {},
     "output_type": "execute_result"
    }
   ],
   "source": [
    "gs_rfc.best_score_"
   ]
  },
  {
   "cell_type": "code",
   "execution_count": 16,
   "id": "6057d761-1c21-4b0e-9283-9c11c2c7024d",
   "metadata": {
    "tags": []
   },
   "outputs": [
    {
     "data": {
      "text/plain": [
       "0.7037967802686189"
      ]
     },
     "execution_count": 16,
     "metadata": {},
     "output_type": "execute_result"
    }
   ],
   "source": [
    "bagging_clf = BaggingClassifier(estimator = DecisionTreeClassifier(max_depth = 7))\n",
    "bag_params = {'bootstrap': [True,False], 'bootstrap_features': [False,True],\\\n",
    "              'max_features': [6,7,8, 9, 10,11],\n",
    "                'oob_score': [True,False],\n",
    "                 'warm_start': [True]}\n",
    "\n",
    "\n",
    "gs_bag = GridSearchCV(bagging_clf, bag_params, cv = 5, scoring = 'f1')\n",
    "gs_bag.fit(X_train, y_train)\n",
    "gs_bag.best_score_\n",
    "\n",
    "# bagging_clf.get_params()\n",
    "# bagging_params = {'max_depth': [5,10,15,20,40,100], 'max_features': [2,3,4,5,6,7,8,9]}\n",
    "# gs_rfc = GridSearchCV(rfc, rfc_params, cv = 5, scoring='f1')\n",
    "# gs_rfc.fit(X_train, y_train)\n",
    "# print(gs_rfc.best_params_)"
   ]
  },
  {
   "cell_type": "code",
   "execution_count": 17,
   "id": "83f03e7c-2917-45be-94c1-b8e1e519d689",
   "metadata": {
    "tags": []
   },
   "outputs": [
    {
     "data": {
      "text/plain": [
       "{'bootstrap': False,\n",
       " 'bootstrap_features': False,\n",
       " 'max_features': 11,\n",
       " 'oob_score': False,\n",
       " 'warm_start': True}"
      ]
     },
     "execution_count": 17,
     "metadata": {},
     "output_type": "execute_result"
    }
   ],
   "source": [
    "gs_bag.best_params_"
   ]
  },
  {
   "cell_type": "code",
   "execution_count": 18,
   "id": "4c90b269-73ad-4a71-b489-b694546352d9",
   "metadata": {
    "tags": []
   },
   "outputs": [
    {
     "data": {
      "text/plain": [
       "{'base_estimator': 'deprecated',\n",
       " 'bootstrap': True,\n",
       " 'bootstrap_features': False,\n",
       " 'estimator__ccp_alpha': 0.0,\n",
       " 'estimator__class_weight': None,\n",
       " 'estimator__criterion': 'gini',\n",
       " 'estimator__max_depth': 7,\n",
       " 'estimator__max_features': None,\n",
       " 'estimator__max_leaf_nodes': None,\n",
       " 'estimator__min_impurity_decrease': 0.0,\n",
       " 'estimator__min_samples_leaf': 1,\n",
       " 'estimator__min_samples_split': 2,\n",
       " 'estimator__min_weight_fraction_leaf': 0.0,\n",
       " 'estimator__random_state': None,\n",
       " 'estimator__splitter': 'best',\n",
       " 'estimator': DecisionTreeClassifier(max_depth=7),\n",
       " 'max_features': 1.0,\n",
       " 'max_samples': 1.0,\n",
       " 'n_estimators': 100,\n",
       " 'n_jobs': None,\n",
       " 'oob_score': False,\n",
       " 'random_state': None,\n",
       " 'verbose': 0,\n",
       " 'warm_start': False}"
      ]
     },
     "execution_count": 18,
     "metadata": {},
     "output_type": "execute_result"
    }
   ],
   "source": [
    "BaggingClassifier(estimator = DecisionTreeClassifier(max_depth = 7), n_estimators = 100).get_params()"
   ]
  },
  {
   "cell_type": "code",
   "execution_count": null,
   "id": "77fded26-e62e-479e-9a02-cd92dc08fb1f",
   "metadata": {},
   "outputs": [],
   "source": []
  },
  {
   "cell_type": "code",
   "execution_count": null,
   "id": "c4728a9c-1e2e-423c-ac67-d6d8c796a990",
   "metadata": {},
   "outputs": [],
   "source": []
  },
  {
   "cell_type": "code",
   "execution_count": null,
   "id": "fd74fde1-9796-425d-a4ca-2880b76b25f0",
   "metadata": {},
   "outputs": [],
   "source": []
  }
 ],
 "metadata": {
  "kernelspec": {
   "display_name": "Python 3 (ipykernel)",
   "language": "python",
   "name": "python3"
  },
  "language_info": {
   "codemirror_mode": {
    "name": "ipython",
    "version": 3
   },
   "file_extension": ".py",
   "mimetype": "text/x-python",
   "name": "python",
   "nbconvert_exporter": "python",
   "pygments_lexer": "ipython3",
   "version": "3.11.3"
  }
 },
 "nbformat": 4,
 "nbformat_minor": 5
}
